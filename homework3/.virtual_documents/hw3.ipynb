





# reminder: if a "#" is in front of a line of code, your computer will NOT read it
# have python print the following message by running this cell:
print("Python is awesome!")





age = 20 # this is a variable (specifically an integer)
print("The age is:", age)





# your code here





# your code here





# your code here





# your code here





# your code here





answer = 2 + 2 * 5
print(answer)


num1 = 4
num2 = 6
print(num1 + num2)





# your code here





print("Something is wrong)



