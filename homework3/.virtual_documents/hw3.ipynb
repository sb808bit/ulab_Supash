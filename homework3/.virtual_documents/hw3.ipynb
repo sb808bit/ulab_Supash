





# reminder: if a "#" is in front of a line of code, your computer will NOT read it
# have python print the following message by running this cell:
print("Python is awesome!")





age = 20 # this is a variable (specifically an integer)
print("The age is:", age)





# your code here
year = 2024
print("The current year is:", year)
type(year)





# your code here
temperature = 98.6
type(temperature)





# your code here
name = "Supash"
type(name)





# your code here
weekend = False
type(weekend)





# your code here
favorite_colors = ["red", "blue", "yellow"]
type(favorite_colors)





answer = 2 + 2 * 5
print(answer)


num1 = 4
num2 = 6
print(num1 + num2)





# your code here
radius = 5
area_of_circle = (3.1415926)*(radius**2)
print(area_of_circle)





print("Something is wrong")



